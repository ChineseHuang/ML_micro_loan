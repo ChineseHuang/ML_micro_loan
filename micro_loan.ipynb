{
 "cells": [
  {
   "cell_type": "code",
   "execution_count": 4,
   "metadata": {
    "collapsed": false
   },
   "outputs": [],
   "source": [
    "import pandas as pd\n",
    "import numpy as np\n",
    "from pandas import Series,DataFrame"
   ]
  },
  {
   "cell_type": "code",
   "execution_count": 1,
   "metadata": {
    "collapsed": true
   },
   "outputs": [],
   "source": [
    "import matplotlib.pyplot as plt\n",
    "import seaborn as sns\n",
    "sns.set_style(\"whitegrid\")\n",
    "%matplotlib inline"
   ]
  },
  {
   "cell_type": "code",
   "execution_count": 16,
   "metadata": {
    "collapsed": true
   },
   "outputs": [],
   "source": [
    "from sklearn.linear_model import LogisticRegression\n",
    "from sklearn.ensemble import RandomForestClassifier\n",
    "from sklearn.naive_bayes import GaussianNB\n",
    "from sklearn.svm import SVC, LinearSVC\n",
    "from sklearn.neighbors import KNeighborsClassifier"
   ]
  },
  {
   "cell_type": "code",
   "execution_count": 5,
   "metadata": {
    "collapsed": false
   },
   "outputs": [
    {
     "data": {
      "text/html": [
       "<div>\n",
       "<table border=\"1\" class=\"dataframe\">\n",
       "  <thead>\n",
       "    <tr style=\"text-align: right;\">\n",
       "      <th></th>\n",
       "      <th>uid</th>\n",
       "      <th>x1</th>\n",
       "      <th>x2</th>\n",
       "      <th>x3</th>\n",
       "      <th>x4</th>\n",
       "      <th>x5</th>\n",
       "      <th>x6</th>\n",
       "      <th>x7</th>\n",
       "      <th>x8</th>\n",
       "      <th>x9</th>\n",
       "      <th>...</th>\n",
       "      <th>x1129</th>\n",
       "      <th>x1130</th>\n",
       "      <th>x1131</th>\n",
       "      <th>x1132</th>\n",
       "      <th>x1133</th>\n",
       "      <th>x1134</th>\n",
       "      <th>x1135</th>\n",
       "      <th>x1136</th>\n",
       "      <th>x1137</th>\n",
       "      <th>x1138</th>\n",
       "    </tr>\n",
       "  </thead>\n",
       "  <tbody>\n",
       "    <tr>\n",
       "      <th>0</th>\n",
       "      <td>1792</td>\n",
       "      <td>5.04</td>\n",
       "      <td>5.77</td>\n",
       "      <td>6.04</td>\n",
       "      <td>3.91</td>\n",
       "      <td>0.66</td>\n",
       "      <td>1.04</td>\n",
       "      <td>1.83</td>\n",
       "      <td>5.41</td>\n",
       "      <td>5.45</td>\n",
       "      <td>...</td>\n",
       "      <td>1</td>\n",
       "      <td>1</td>\n",
       "      <td>20</td>\n",
       "      <td>4</td>\n",
       "      <td>1</td>\n",
       "      <td>7</td>\n",
       "      <td>15</td>\n",
       "      <td>6</td>\n",
       "      <td>6</td>\n",
       "      <td>6</td>\n",
       "    </tr>\n",
       "    <tr>\n",
       "      <th>1</th>\n",
       "      <td>4211</td>\n",
       "      <td>5.98</td>\n",
       "      <td>2.90</td>\n",
       "      <td>1.94</td>\n",
       "      <td>1.42</td>\n",
       "      <td>0.10</td>\n",
       "      <td>3.29</td>\n",
       "      <td>0.81</td>\n",
       "      <td>9.09</td>\n",
       "      <td>8.04</td>\n",
       "      <td>...</td>\n",
       "      <td>7</td>\n",
       "      <td>8</td>\n",
       "      <td>1</td>\n",
       "      <td>2</td>\n",
       "      <td>7</td>\n",
       "      <td>7</td>\n",
       "      <td>3</td>\n",
       "      <td>8</td>\n",
       "      <td>7</td>\n",
       "      <td>24</td>\n",
       "    </tr>\n",
       "    <tr>\n",
       "      <th>2</th>\n",
       "      <td>14658</td>\n",
       "      <td>7.04</td>\n",
       "      <td>8.92</td>\n",
       "      <td>3.24</td>\n",
       "      <td>0.01</td>\n",
       "      <td>0.00</td>\n",
       "      <td>4.50</td>\n",
       "      <td>0.00</td>\n",
       "      <td>8.41</td>\n",
       "      <td>6.97</td>\n",
       "      <td>...</td>\n",
       "      <td>6</td>\n",
       "      <td>6</td>\n",
       "      <td>1</td>\n",
       "      <td>1</td>\n",
       "      <td>6</td>\n",
       "      <td>8</td>\n",
       "      <td>6</td>\n",
       "      <td>7</td>\n",
       "      <td>4</td>\n",
       "      <td>19</td>\n",
       "    </tr>\n",
       "    <tr>\n",
       "      <th>3</th>\n",
       "      <td>17041</td>\n",
       "      <td>13.30</td>\n",
       "      <td>7.16</td>\n",
       "      <td>5.69</td>\n",
       "      <td>1.98</td>\n",
       "      <td>0.71</td>\n",
       "      <td>2.20</td>\n",
       "      <td>0.22</td>\n",
       "      <td>13.89</td>\n",
       "      <td>1.75</td>\n",
       "      <td>...</td>\n",
       "      <td>1</td>\n",
       "      <td>1</td>\n",
       "      <td>20</td>\n",
       "      <td>1</td>\n",
       "      <td>1</td>\n",
       "      <td>8</td>\n",
       "      <td>1</td>\n",
       "      <td>6</td>\n",
       "      <td>8</td>\n",
       "      <td>9</td>\n",
       "    </tr>\n",
       "    <tr>\n",
       "      <th>4</th>\n",
       "      <td>15765</td>\n",
       "      <td>5.24</td>\n",
       "      <td>5.09</td>\n",
       "      <td>5.31</td>\n",
       "      <td>1.05</td>\n",
       "      <td>0.00</td>\n",
       "      <td>4.24</td>\n",
       "      <td>0.34</td>\n",
       "      <td>5.25</td>\n",
       "      <td>5.59</td>\n",
       "      <td>...</td>\n",
       "      <td>7</td>\n",
       "      <td>1</td>\n",
       "      <td>3</td>\n",
       "      <td>1</td>\n",
       "      <td>1</td>\n",
       "      <td>8</td>\n",
       "      <td>31</td>\n",
       "      <td>1</td>\n",
       "      <td>6</td>\n",
       "      <td>14</td>\n",
       "    </tr>\n",
       "  </tbody>\n",
       "</table>\n",
       "<p>5 rows × 1139 columns</p>\n",
       "</div>"
      ],
      "text/plain": [
       "     uid     x1    x2    x3    x4    x5    x6    x7     x8    x9  ...    \\\n",
       "0   1792   5.04  5.77  6.04  3.91  0.66  1.04  1.83   5.41  5.45  ...     \n",
       "1   4211   5.98  2.90  1.94  1.42  0.10  3.29  0.81   9.09  8.04  ...     \n",
       "2  14658   7.04  8.92  3.24  0.01  0.00  4.50  0.00   8.41  6.97  ...     \n",
       "3  17041  13.30  7.16  5.69  1.98  0.71  2.20  0.22  13.89  1.75  ...     \n",
       "4  15765   5.24  5.09  5.31  1.05  0.00  4.24  0.34   5.25  5.59  ...     \n",
       "\n",
       "   x1129  x1130  x1131  x1132  x1133  x1134  x1135  x1136  x1137  x1138  \n",
       "0      1      1     20      4      1      7     15      6      6      6  \n",
       "1      7      8      1      2      7      7      3      8      7     24  \n",
       "2      6      6      1      1      6      8      6      7      4     19  \n",
       "3      1      1     20      1      1      8      1      6      8      9  \n",
       "4      7      1      3      1      1      8     31      1      6     14  \n",
       "\n",
       "[5 rows x 1139 columns]"
      ]
     },
     "execution_count": 5,
     "metadata": {},
     "output_type": "execute_result"
    }
   ],
   "source": [
    "train_x = pd.read_csv(\"G:/Redhat_share/ML_micro/train_x.csv\")\n",
    "train_y = pd.read_csv(\"G:/Redhat_share/ML_micro/train_y.csv\")\n",
    "test_x = pd.read_csv(\"G:/Redhat_share/ML_micro/test_x.csv\")\n",
    "features_type = pd.read_csv(\"G:/Redhat_share/ML_micro/features_type.csv\")\n",
    "train_x.head()"
   ]
  },
  {
   "cell_type": "code",
   "execution_count": 6,
   "metadata": {
    "collapsed": false
   },
   "outputs": [
    {
     "data": {
      "text/html": [
       "<div>\n",
       "<table border=\"1\" class=\"dataframe\">\n",
       "  <thead>\n",
       "    <tr style=\"text-align: right;\">\n",
       "      <th></th>\n",
       "      <th>uid</th>\n",
       "      <th>y</th>\n",
       "    </tr>\n",
       "  </thead>\n",
       "  <tbody>\n",
       "    <tr>\n",
       "      <th>0</th>\n",
       "      <td>1792</td>\n",
       "      <td>1</td>\n",
       "    </tr>\n",
       "    <tr>\n",
       "      <th>1</th>\n",
       "      <td>4211</td>\n",
       "      <td>1</td>\n",
       "    </tr>\n",
       "    <tr>\n",
       "      <th>2</th>\n",
       "      <td>14658</td>\n",
       "      <td>1</td>\n",
       "    </tr>\n",
       "    <tr>\n",
       "      <th>3</th>\n",
       "      <td>17041</td>\n",
       "      <td>1</td>\n",
       "    </tr>\n",
       "    <tr>\n",
       "      <th>4</th>\n",
       "      <td>15765</td>\n",
       "      <td>1</td>\n",
       "    </tr>\n",
       "  </tbody>\n",
       "</table>\n",
       "</div>"
      ],
      "text/plain": [
       "     uid  y\n",
       "0   1792  1\n",
       "1   4211  1\n",
       "2  14658  1\n",
       "3  17041  1\n",
       "4  15765  1"
      ]
     },
     "execution_count": 6,
     "metadata": {},
     "output_type": "execute_result"
    }
   ],
   "source": [
    "train_y.head()"
   ]
  },
  {
   "cell_type": "code",
   "execution_count": null,
   "metadata": {
    "collapsed": true
   },
   "outputs": [],
   "source": [
    "#数据整理工作\n"
   ]
  },
  {
   "cell_type": "code",
   "execution_count": 7,
   "metadata": {
    "collapsed": true
   },
   "outputs": [],
   "source": [
    "#去除数据中不相关元素\n",
    "train_x.drop(\"uid\",axis=1)\n",
    "train_y = train_y[\"y\"]"
   ]
  },
  {
   "cell_type": "code",
   "execution_count": 35,
   "metadata": {
    "collapsed": false
   },
   "outputs": [
    {
     "data": {
      "text/plain": [
       "0.8958666666666667"
      ]
     },
     "execution_count": 35,
     "metadata": {},
     "output_type": "execute_result"
    }
   ],
   "source": [
    "#逻辑回归\n",
    "logreg = LogisticRegression()\n",
    "logreg.fit(train_x,train_y)\n",
    "pred_y = logreg.predict(test_x)\n",
    "logreg.score(train_x,train_y)"
   ]
  },
  {
   "cell_type": "code",
   "execution_count": 8,
   "metadata": {
    "collapsed": false
   },
   "outputs": [
    {
     "data": {
      "text/plain": [
       "1.0"
      ]
     },
     "execution_count": 8,
     "metadata": {},
     "output_type": "execute_result"
    }
   ],
   "source": [
    "#随机森林\n",
    "random_forest = RandomForestClassifier(n_estimators=200,max_features=0.3)\n",
    "random_forest.fit(train_x,train_y)\n",
    "pred_y = random_forest.predict(test_x)\n",
    "random_forest.score(train_x,train_y)"
   ]
  },
  {
   "cell_type": "code",
   "execution_count": 10,
   "metadata": {
    "collapsed": false
   },
   "outputs": [
    {
     "data": {
      "text/plain": [
       "0.2114"
      ]
     },
     "execution_count": 10,
     "metadata": {},
     "output_type": "execute_result"
    }
   ],
   "source": [
    "#高斯朴素贝叶斯\n",
    "gaussian = GaussianNB()\n",
    "gaussian.fit(train_x, train_y)\n",
    "pred_y = gaussian.predict(test_x)\n",
    "gaussian.score(train_x, train_y)"
   ]
  },
  {
   "cell_type": "code",
   "execution_count": 13,
   "metadata": {
    "collapsed": false
   },
   "outputs": [
    {
     "data": {
      "text/plain": [
       "1.0"
      ]
     },
     "execution_count": 13,
     "metadata": {},
     "output_type": "execute_result"
    }
   ],
   "source": [
    "#支持向量机\n",
    "svc = SVC()\n",
    "svc.fit(train_x, train_y)\n",
    "Y_pred = svc.predict(test_x)\n",
    "svc.score(train_x, train_y)"
   ]
  },
  {
   "cell_type": "code",
   "execution_count": 17,
   "metadata": {
    "collapsed": false
   },
   "outputs": [
    {
     "data": {
      "text/plain": [
       "0.9075333333333333"
      ]
     },
     "execution_count": 17,
     "metadata": {},
     "output_type": "execute_result"
    }
   ],
   "source": [
    "#K最近邻算法\n",
    "knn = KNeighborsClassifier(n_neighbors = 3)\n",
    "knn.fit(train_x, train_y)\n",
    "pred_y = knn.predict(test_x)\n",
    "knn.score(train_x, train_y)"
   ]
  },
  {
   "cell_type": "code",
   "execution_count": 18,
   "metadata": {
    "collapsed": false
   },
   "outputs": [],
   "source": [
    "#将预测结果生成csv文件\n",
    "submission = pd.DataFrame({\n",
    "        \"uid\": test_x[\"uid\"],\n",
    "        \"score\": pred_y\n",
    "    })\n",
    "submission.to_csv('result.csv', index=False)"
   ]
  },
  {
   "cell_type": "code",
   "execution_count": null,
   "metadata": {
    "collapsed": true
   },
   "outputs": [],
   "source": []
  }
 ],
 "metadata": {
  "anaconda-cloud": {},
  "kernelspec": {
   "display_name": "Python [conda root]",
   "language": "python",
   "name": "conda-root-py"
  },
  "language_info": {
   "codemirror_mode": {
    "name": "ipython",
    "version": 2
   },
   "file_extension": ".py",
   "mimetype": "text/x-python",
   "name": "python",
   "nbconvert_exporter": "python",
   "pygments_lexer": "ipython2",
   "version": "2.7.12"
  }
 },
 "nbformat": 4,
 "nbformat_minor": 1
}
