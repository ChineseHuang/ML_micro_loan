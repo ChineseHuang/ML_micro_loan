{
 "cells": [
  {
   "cell_type": "code",
   "execution_count": null,
   "metadata": {
    "collapsed": false
   },
   "outputs": [],
   "source": [
    "import pandas as pd\n",
    "import numpy as np\n",
    "import xgboost as xgb\n",
    "from pandas import Series,DataFrame"
   ]
  },
  {
   "cell_type": "code",
   "execution_count": null,
   "metadata": {
    "collapsed": true
   },
   "outputs": [],
   "source": [
    "import matplotlib.pyplot as plt\n",
    "import seaborn as sns\n",
    "sns.set_style(\"whitegrid\")\n",
    "%matplotlib inline"
   ]
  },
  {
   "cell_type": "code",
   "execution_count": null,
   "metadata": {
    "collapsed": true
   },
   "outputs": [],
   "source": [
    "from sklearn.linear_model import LogisticRegression\n",
    "from sklearn.ensemble import RandomForestClassifier\n",
    "from sklearn.naive_bayes import GaussianNB\n",
    "from sklearn.svm import SVC, LinearSVC\n",
    "from sklearn.neighbors import KNeighborsClassifier\n",
    "from sklearn.cross_validation import train_test_split"
   ]
  },
  {
   "cell_type": "code",
   "execution_count": null,
   "metadata": {
    "collapsed": true
   },
   "outputs": [],
   "source": [
    "random_seed = 1111"
   ]
  },
  {
   "cell_type": "code",
   "execution_count": null,
   "metadata": {
    "collapsed": false
   },
   "outputs": [],
   "source": [
    "#读取onehot编码后的分类数据\n",
    "train_cat_after_oh = pd.read_csv('G:/Redhat_share/ML_micro/train_cat_after_oh.csv')\n",
    "test_cat_after_oh = pd.read_csv('G:/Redhat_share/ML_micro/test_cat_after_oh.csv')\n",
    "#读取数值型数据\n",
    "train_only_num = pd.read_csv('G:/Redhat_share/ML_micro/train_only_num.csv')\n",
    "test_only_num = pd.read_csv('G:/Redhat_share/ML_micro/test_only_num.csv')\n",
    "#合并分类数据和数值数据\n",
    "train_x = pd.merge(train_cat_after_oh,train_only_num,on='uid')\n",
    "test_x = pd.merge(test_cat_after_oh,test_only_num,on='uid')\n",
    "#读取训练数据y\n",
    "train_y = pd.read_csv(\"G:/Redhat_share/ML_micro/train_y.csv\")\n",
    "#合并训练集的x和y\n",
    "train_xy = pd.merge(train_x,train_y,on='uid')\n",
    "train_xy.to_csv('G:/Redhat_share/ML_micro/train_xy.csv', index=False)\n",
    "test_uid = test_x.uid"
   ]
  },
  {
   "cell_type": "code",
   "execution_count": null,
   "metadata": {
    "collapsed": false
   },
   "outputs": [],
   "source": [
    "train_xy.head()"
   ]
  },
  {
   "cell_type": "code",
   "execution_count": null,
   "metadata": {
    "collapsed": false
   },
   "outputs": [],
   "source": [
    "train_xy = train_xy.drop(['uid'],axis=1)\n",
    "train,val = train_test_split(train_xy, test_size = 0.3,random_state=random_seed)\n",
    "train_y = train.y\n",
    "train_x = train.drop(['y'],axis=1)\n",
    "val_y = val.y\n",
    "val_x = val.drop(['y'],axis=1)\n",
    "test_x = test_x.drop('uid',axis=1)"
   ]
  },
  {
   "cell_type": "code",
   "execution_count": null,
   "metadata": {
    "collapsed": false
   },
   "outputs": [],
   "source": [
    "dtrain = xgb.DMatrix(train_x, label=train_y)\n",
    "dval = xgb.DMatrix(val_x,label=val_y)\n",
    "dtest = xgb.DMatrix(test_x)\n",
    "params={\n",
    "    'booster':'gbtree',\n",
    "    'early_stopping_rounds':100,\n",
    "    'scale_pos_weight': 5,\n",
    "    'objective': 'binary:logistic',\n",
    "    'colsample_bytree':0.4,\n",
    "    \n",
    "    'gamma':0.05,\n",
    "    'lambda':600,\n",
    "    'max_depth':8,\n",
    "    'subsample':0.6,\n",
    "    'min_child_weight':3,\n",
    "    'eta': 0.02,\n",
    "    'seed':random_seed,\n",
    "    'nthread':16,\n",
    "    'eval_metric': 'auc'\n",
    "    }"
   ]
  },
  {
   "cell_type": "code",
   "execution_count": null,
   "metadata": {
    "collapsed": false
   },
   "outputs": [],
   "source": [
    "watchlist  = [(dval,'val'), (dtrain,'train')]\n",
    "model = xgb.train(params,dtrain,num_boost_round=5000,evals=watchlist)\n",
    "model.save_model('xgb.model')\n",
    "#预测\n",
    "test_y = model.predict(dtest,ntree_limit=model.best_ntree_limit)\n",
    "test_result = pd.DataFrame(columns=[\"uid\",\"score\"])\n",
    "test_result.uid = test_uid\n",
    "test_result.score = test_y\n",
    "test_result.to_csv(\"result.csv\",index=None,encoding='utf-8')"
   ]
  },
  {
   "cell_type": "code",
   "execution_count": null,
   "metadata": {
    "collapsed": true
   },
   "outputs": [],
   "source": []
  }
 ],
 "metadata": {
  "anaconda-cloud": {},
  "kernelspec": {
   "display_name": "Python [conda root]",
   "language": "python",
   "name": "conda-root-py"
  },
  "language_info": {
   "codemirror_mode": {
    "name": "ipython",
    "version": 2
   },
   "file_extension": ".py",
   "mimetype": "text/x-python",
   "name": "python",
   "nbconvert_exporter": "python",
   "pygments_lexer": "ipython2",
   "version": "2.7.12"
  }
 },
 "nbformat": 4,
 "nbformat_minor": 1
}
