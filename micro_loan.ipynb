{
 "cells": [
  {
   "cell_type": "code",
   "execution_count": null,
   "metadata": {
    "collapsed": false
   },
   "outputs": [],
   "source": [
    "import pandas as pd\n",
    "import numpy as np\n",
    "import xgboost as xgb\n",
    "from pandas import Series,DataFrame"
   ]
  },
  {
   "cell_type": "code",
   "execution_count": null,
   "metadata": {
    "collapsed": true
   },
   "outputs": [],
   "source": [
    "import matplotlib.pyplot as plt\n",
    "import seaborn as sns\n",
    "sns.set_style(\"whitegrid\")\n",
    "%matplotlib inline"
   ]
  },
  {
   "cell_type": "code",
   "execution_count": null,
   "metadata": {
    "collapsed": true
   },
   "outputs": [],
   "source": [
    "from sklearn.linear_model import LogisticRegression\n",
    "from sklearn.ensemble import RandomForestClassifier\n",
    "from sklearn.naive_bayes import GaussianNB\n",
    "from sklearn.svm import SVC, LinearSVC\n",
    "from sklearn.neighbors import KNeighborsClassifier\n",
    "from sklearn.cross_validation import train_test_split"
   ]
  },
  {
   "cell_type": "code",
   "execution_count": null,
   "metadata": {
    "collapsed": true
   },
   "outputs": [],
   "source": [
    "random_seed = 1111"
   ]
  },
  {
   "cell_type": "code",
   "execution_count": null,
   "metadata": {
    "collapsed": false
   },
   "outputs": [],
   "source": [
    "train_x_raw = pd.read_csv(\"G:/Redhat_share/ML_micro/train_x.csv\")\n",
    "train_y_raw = pd.read_csv(\"G:/Redhat_share/ML_micro/train_y.csv\")\n",
    "train_xy_raw = pd.merge(train_x_raw,train_y_raw,on='uid')\n",
    "test_x = pd.read_csv(\"G:/Redhat_share/ML_micro/test_x.csv\")\n",
    "features_type = pd.read_csv(\"G:/Redhat_share/ML_micro/features_type.csv\")\n",
    "test_uid = test_x.uid\n",
    "train_xy_raw.head()"
   ]
  },
  {
   "cell_type": "code",
   "execution_count": null,
   "metadata": {
    "collapsed": false
   },
   "outputs": [],
   "source": [
    "train_xy = train_xy_raw.drop(['uid'],axis=1)\n",
    "train,val = train_test_split(train_xy_raw, test_size = 0.2,random_state=random_seed)\n",
    "train_y = train.y\n",
    "train_x = train.drop(['y'],axis=1)\n",
    "val_y = val.y\n",
    "val_x = val.drop(['y'],axis=1)"
   ]
  },
  {
   "cell_type": "code",
   "execution_count": null,
   "metadata": {
    "collapsed": false
   },
   "outputs": [],
   "source": [
    "dtrain = xgb.DMatrix(train_x, label=train_y)\n",
    "dval = xgb.DMatrix(val_x,label=val_y)\n",
    "dtest = xgb.DMatrix(test_x)\n",
    "params={\n",
    "    'booster':'gbtree',\n",
    "    'objective': 'binary:logistic',\n",
    "    'early_stopping_rounds':100,\n",
    "    'scale_pos_weight': 5,\n",
    "        'eval_metric': 'auc',\n",
    "    'gamma':0.05,\n",
    "#    'max_depth':8,\n",
    "    'lambda':600,\n",
    "        'subsample':0.6,\n",
    "        'colsample_bytree':0.4,\n",
    "        'min_child_weight':3,\n",
    "       # 'eta': 0.02,\n",
    "    'seed':random_seed,\n",
    "    'nthread':8\n",
    "    }"
   ]
  },
  {
   "cell_type": "code",
   "execution_count": null,
   "metadata": {
    "collapsed": false
   },
   "outputs": [],
   "source": [
    "watchlist  = [(dval,'val'), (dtrain,'train')]\n",
    "model = xgb.train(params,dtrain,num_boost_round=2000,evals=watchlist)\n",
    "model.save_model('xgb.model')\n",
    "#预测\n",
    "test_y = model.predict(dtest,ntree_limit=model.best_ntree_limit)\n",
    "test_result = pd.DataFrame(columns=[\"uid\",\"score\"])\n",
    "test_result.uid = test_uid\n",
    "test_result.score = test_y\n",
    "test_result.to_csv(\"result.csv\",index=None,encoding='utf-8')"
   ]
  },
  {
   "cell_type": "code",
   "execution_count": null,
   "metadata": {
    "collapsed": true
   },
   "outputs": [],
   "source": []
  }
 ],
 "metadata": {
  "anaconda-cloud": {},
  "kernelspec": {
   "display_name": "Python [conda root]",
   "language": "python",
   "name": "conda-root-py"
  },
  "language_info": {
   "codemirror_mode": {
    "name": "ipython",
    "version": 2
   },
   "file_extension": ".py",
   "mimetype": "text/x-python",
   "name": "python",
   "nbconvert_exporter": "python",
   "pygments_lexer": "ipython2",
   "version": "2.7.12"
  }
 },
 "nbformat": 4,
 "nbformat_minor": 1
}
