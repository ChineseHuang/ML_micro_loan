{
 "cells": [
  {
   "cell_type": "code",
   "execution_count": null,
   "metadata": {
    "collapsed": true
   },
   "outputs": [],
   "source": [
    "import pandas as pd"
   ]
  },
  {
   "cell_type": "code",
   "execution_count": null,
   "metadata": {
    "collapsed": true
   },
   "outputs": [],
   "source": [
    "#对分类类型的数据进行ONEHOT编码"
   ]
  },
  {
   "cell_type": "code",
   "execution_count": null,
   "metadata": {
    "collapsed": false
   },
   "outputs": [],
   "source": [
    "feature_type = pd.read_csv('G:/Redhat_share/ML_micro/features_type.csv')\n",
    "category_feature = list(feature_type[feature_type.type=='category'].feature)"
   ]
  },
  {
   "cell_type": "code",
   "execution_count": null,
   "metadata": {
    "collapsed": false
   },
   "outputs": [],
   "source": [
    "test = pd.read_csv('G:/Redhat_share/ML_micro/test_x.csv')\n",
    "test = test[['uid']+category_feature]\n",
    "train = pd.read_csv('G:/Redhat_share/ML_micro/train_x.csv')\n",
    "train = train[['uid']+category_feature]"
   ]
  },
  {
   "cell_type": "code",
   "execution_count": null,
   "metadata": {
    "collapsed": true
   },
   "outputs": [],
   "source": [
    "#OneHot编码要求特征是非负整数\n",
    "#先把训练数据特征的值变为非负数\n",
    "uid = train.uid\n",
    "train = train.drop('uid',axis=1)\n",
    "features = list(train.columns)\n",
    "for feature in features:\n",
    "    max_ = train[feature].max()\n",
    "    train[feature] = (train[feature] - max_) * (-1)"
   ]
  },
  {
   "cell_type": "code",
   "execution_count": null,
   "metadata": {
    "collapsed": false
   },
   "outputs": [],
   "source": [
    "from sklearn import preprocessing\n",
    "enc = preprocessing.OneHotEncoder()\n",
    "enc.fit(train)\n",
    "train= enc.transform(train).toarray()\n",
    "train_after_oh = pd.DataFrame(train)\n",
    "train_after_oh['uid']=uid"
   ]
  },
  {
   "cell_type": "code",
   "execution_count": null,
   "metadata": {
    "collapsed": false
   },
   "outputs": [],
   "source": [
    "#OneHot编码要求特征是非负整数\n",
    "#先把测试数据特征的值变为非负数\n",
    "uid = test.uid\n",
    "test = test.drop('uid',axis=1)\n",
    "features = list(test.columns)\n",
    "for feature in features:\n",
    "    max_ = test[feature].max()\n",
    "    test[feature] = (test[feature] - max_) * (-1)"
   ]
  },
  {
   "cell_type": "code",
   "execution_count": null,
   "metadata": {
    "collapsed": false
   },
   "outputs": [],
   "source": [
    "#此处不能再次fit另一个编码器，\n",
    "#会导致特征数量不同\n",
    "test= enc.transform(test).toarray()\n",
    "test_after_oh = pd.DataFrame(test)\n",
    "test_after_oh['uid']=uid"
   ]
  },
  {
   "cell_type": "code",
   "execution_count": null,
   "metadata": {
    "collapsed": true
   },
   "outputs": [],
   "source": [
    "train_after_oh.to_csv('G:/Redhat_share/ML_micro/train_cat_after_oh.csv', index=False)\n",
    "test_after_oh.to_csv('G:/Redhat_share/ML_micro/test_cat_after_oh.csv', index=False)"
   ]
  }
 ],
 "metadata": {
  "anaconda-cloud": {},
  "kernelspec": {
   "display_name": "Python [conda root]",
   "language": "python",
   "name": "conda-root-py"
  },
  "language_info": {
   "codemirror_mode": {
    "name": "ipython",
    "version": 2
   },
   "file_extension": ".py",
   "mimetype": "text/x-python",
   "name": "python",
   "nbconvert_exporter": "python",
   "pygments_lexer": "ipython2",
   "version": "2.7.12"
  }
 },
 "nbformat": 4,
 "nbformat_minor": 1
}
