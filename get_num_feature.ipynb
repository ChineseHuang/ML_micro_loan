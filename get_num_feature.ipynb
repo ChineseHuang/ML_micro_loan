{
 "cells": [
  {
   "cell_type": "code",
   "execution_count": 2,
   "metadata": {
    "collapsed": true
   },
   "outputs": [],
   "source": [
    "import pandas as pd"
   ]
  },
  {
   "cell_type": "code",
   "execution_count": 3,
   "metadata": {
    "collapsed": true
   },
   "outputs": [],
   "source": [
    "train_x = pd.read_csv(\"G:/Redhat_share/ML_micro/train_x.csv\")\n",
    "test_x = pd.read_csv(\"G:/Redhat_share/ML_micro/test_x.csv\")\n",
    "features_type = pd.read_csv(\"G:/Redhat_share/ML_micro/features_type.csv\")"
   ]
  },
  {
   "cell_type": "code",
   "execution_count": 4,
   "metadata": {
    "collapsed": false
   },
   "outputs": [
    {
     "data": {
      "text/plain": [
       "(15000, 1139)"
      ]
     },
     "execution_count": 4,
     "metadata": {},
     "output_type": "execute_result"
    }
   ],
   "source": [
    "train_x.shape"
   ]
  },
  {
   "cell_type": "code",
   "execution_count": 5,
   "metadata": {
    "collapsed": true
   },
   "outputs": [],
   "source": [
    "#数据整理工作\n",
    "#找出训练数据集中的分类数据\n",
    "features_category = features_type[features_type[\"type\"]==\"category\"]\n",
    "index_of_category = features_category[\"feature\"]\n",
    "train_x = train_x.drop(index_of_category,axis=1)   #将分类类型数据去除\n",
    "test_x = test_x.drop(index_of_category,axis=1)    #将分类型数据从测试集中去除"
   ]
  },
  {
   "cell_type": "code",
   "execution_count": 9,
   "metadata": {
    "collapsed": false
   },
   "outputs": [],
   "source": [
    "train_x.to_csv('G:/Redhat_share/ML_micro/train_only_num.csv', index=False)\n",
    "test_x.to_csv('G:/Redhat_share/ML_micro/test_only_num.csv', index=False)"
   ]
  },
  {
   "cell_type": "code",
   "execution_count": null,
   "metadata": {
    "collapsed": true
   },
   "outputs": [],
   "source": []
  }
 ],
 "metadata": {
  "anaconda-cloud": {},
  "kernelspec": {
   "display_name": "Python [conda root]",
   "language": "python",
   "name": "conda-root-py"
  },
  "language_info": {
   "codemirror_mode": {
    "name": "ipython",
    "version": 2
   },
   "file_extension": ".py",
   "mimetype": "text/x-python",
   "name": "python",
   "nbconvert_exporter": "python",
   "pygments_lexer": "ipython2",
   "version": "2.7.12"
  }
 },
 "nbformat": 4,
 "nbformat_minor": 1
}
